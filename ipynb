{
 "cells": [
  {
   "cell_type": "code",
   "execution_count": 47,
   "metadata": {},
   "outputs": [
    {
     "name": "stdout",
     "output_type": "stream",
     "text": [
      "['world', 'in', 'nile', 'the', 'while', 'india', 'in', 'river', 'longest', 'the', 'is', 'ganges', 'the']\n"
     ]
    }
   ],
   "source": [
    "def rev(string):\n",
    "      \n",
    "        \n",
    "    print(string[::-1])\n",
    "    #string[0].upper for upper\n",
    "\n",
    "string = ['the', 'ganges', 'is', 'the', 'longest', 'river', 'in', 'india', 'while', 'the', 'nile', 'in', 'world']\n",
    "rev(string)\n",
    "\n"
   ]
  },
  {
   "cell_type": "code",
   "execution_count": 43,
   "metadata": {},
   "outputs": [
    {
     "name": "stdout",
     "output_type": "stream",
     "text": [
      "freq of letter: \n",
      "\n",
      "{'T': 2, 'C': 1, 'S': 1, ' ': 17, 'i': 6, 's': 6, 't': 5, 'h': 3, 'e': 13, 'l': 4, 'a': 10, 'r': 5, 'g': 2, 'I': 2, 'v': 1, 'c': 2, 'o': 3, 'm': 3, 'p': 2, 'n': 5, 'y': 2, 'd': 4, 'q': 1, 'u': 2, 'M': 1, 'b': 2}\n",
      "\n",
      "\n",
      "freq of word: \n",
      "\n",
      "{'TCS': 1, 'is': 1, 'the': 2, 'largest': 2, 'IT': 1, 'service': 1, 'company': 1, 'in': 2, 'India': 1, 'headquartered': 1, 'Mumbai': 1, 'and': 1, 'also': 1, 'employee': 1, 'base': 1}\n"
     ]
    }
   ],
   "source": [
    "def count(str, w):\n",
    "    cnt = 0\n",
    "    for x in str:\n",
    "        for y in x:\n",
    "            if y==w:\n",
    "                cnt += 1\n",
    "    return cnt\n",
    "\n",
    "def letterOcc(str):\n",
    "    dict = {}\n",
    "    for y in str:\n",
    "        for x in y:\n",
    "            dict.update({x: count(str,x)})\n",
    "            \n",
    "    print(dict)\n",
    "    \n",
    "def occ(str, w):\n",
    "    cnt = 0\n",
    "    for x in str:\n",
    "        if x == w:\n",
    "            cnt += 1\n",
    "    return cnt\n",
    "    \n",
    "def wordOcc(str):\n",
    "    dict = {}\n",
    "    for y in str:\n",
    "        dict.update({y: occ(str,y)})\n",
    "    \n",
    "    print(dict)\n",
    "\n",
    "str = 'TCS is the largest IT service company in India headquartered in Mumbai and also the largest employee base'\n",
    "str1 = ['TCS' ,'is' ,'the' ,'largest' ,'IT', 'service', 'company', 'in', 'India', 'headquartered', 'in', 'Mumbai' ,'and', 'also', 'the' ,'largest' ,'employee' ,'base']\n",
    "\n",
    "str2 = str.split(',')\n",
    "print('freq of letter: \\n')\n",
    "letterOcc(str)\n",
    "print('\\n')\n",
    "\n",
    "\n",
    "print('freq of word: \\n')\n",
    "wordOcc(str1)\n",
    "\n",
    "\n"
   ]
  },
  {
   "cell_type": "code",
   "execution_count": 44,
   "metadata": {},
   "outputs": [
    {
     "name": "stdout",
     "output_type": "stream",
     "text": [
      "['TCS is the largest IT service company in India headquartered in Mumbai and also the largest employee base']\n"
     ]
    }
   ],
   "source": [
    "print(str2)"
   ]
  },
  {
   "cell_type": "code",
   "execution_count": 5,
   "metadata": {
    "scrolled": true
   },
   "outputs": [
    {
     "name": "stdout",
     "output_type": "stream",
     "text": [
      "Object `toUpper` not found.\n"
     ]
    }
   ],
   "source": []
  },
  {
   "cell_type": "code",
   "execution_count": 7,
   "metadata": {},
   "outputs": [
    {
     "name": "stdout",
     "output_type": "stream",
     "text": [
      "Object `a.uppercase` not found.\n"
     ]
    }
   ],
   "source": []
  },
  {
   "cell_type": "code",
   "execution_count": null,
   "metadata": {},
   "outputs": [],
   "source": []
  }
 ],
 "metadata": {
  "kernelspec": {
   "display_name": "Python 3",
   "language": "python",
   "name": "python3"
  },
  "language_info": {
   "codemirror_mode": {
    "name": "ipython",
    "version": 3
   },
   "file_extension": ".py",
   "mimetype": "text/x-python",
   "name": "python",
   "nbconvert_exporter": "python",
   "pygments_lexer": "ipython3",
   "version": "3.7.3"
  }
 },
 "nbformat": 4,
 "nbformat_minor": 2
}
